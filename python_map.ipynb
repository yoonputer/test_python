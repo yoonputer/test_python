{
  "nbformat": 4,
  "nbformat_minor": 0,
  "metadata": {
    "colab": {
      "name": "python_map.ipynb",
      "provenance": [],
      "authorship_tag": "ABX9TyM7bfvRTIhTyiF74gtnr97I",
      "include_colab_link": true
    },
    "kernelspec": {
      "name": "python3",
      "display_name": "Python 3"
    },
    "language_info": {
      "name": "python"
    }
  },
  "cells": [
    {
      "cell_type": "markdown",
      "metadata": {
        "id": "view-in-github",
        "colab_type": "text"
      },
      "source": [
        "<a href=\"https://colab.research.google.com/github/yoonputer/test_python/blob/master/python_map.ipynb\" target=\"_parent\"><img src=\"https://colab.research.google.com/assets/colab-badge.svg\" alt=\"Open In Colab\"/></a>"
      ]
    },
    {
      "cell_type": "code",
      "metadata": {
        "id": "5FVgSIHEjvWp"
      },
      "source": [
        "def calSquare(num):\n",
        "  result = num * num\n",
        "  return result"
      ],
      "execution_count": 1,
      "outputs": []
    },
    {
      "cell_type": "code",
      "metadata": {
        "id": "lQyFZyJwlFz8"
      },
      "source": [
        "numbers = (1,2)"
      ],
      "execution_count": 2,
      "outputs": []
    },
    {
      "cell_type": "code",
      "metadata": {
        "colab": {
          "base_uri": "https://localhost:8080/"
        },
        "id": "8Ohfkmvplnc-",
        "outputId": "0539da38-0b38-41bf-e632-fb54aa71482d"
      },
      "source": [
        "result = map(calSquare, numbers)\n",
        "print(set(result))"
      ],
      "execution_count": 3,
      "outputs": [
        {
          "output_type": "stream",
          "text": [
            "{1, 4}\n"
          ],
          "name": "stdout"
        }
      ]
    },
    {
      "cell_type": "code",
      "metadata": {
        "colab": {
          "base_uri": "https://localhost:8080/"
        },
        "id": "R4OkREJ2lw7O",
        "outputId": "245989e1-d83b-46ab-be3f-bbab87d4c598"
      },
      "source": [
        "calSquare(1),calSquare(2)"
      ],
      "execution_count": 6,
      "outputs": [
        {
          "output_type": "execute_result",
          "data": {
            "text/plain": [
              "(1, 4)"
            ]
          },
          "metadata": {
            "tags": []
          },
          "execution_count": 6
        }
      ]
    },
    {
      "cell_type": "code",
      "metadata": {
        "colab": {
          "base_uri": "https://localhost:8080/"
        },
        "id": "5xc2lqPzmZT1",
        "outputId": "b1de9f03-a668-4c65-d42d-6e573e22c5f6"
      },
      "source": [
        "calplus = (lambda first, second : first + second)\n",
        "type(calplus)"
      ],
      "execution_count": 7,
      "outputs": [
        {
          "output_type": "execute_result",
          "data": {
            "text/plain": [
              "function"
            ]
          },
          "metadata": {
            "tags": []
          },
          "execution_count": 7
        }
      ]
    },
    {
      "cell_type": "code",
      "metadata": {
        "colab": {
          "base_uri": "https://localhost:8080/"
        },
        "id": "U2j73loEp5iQ",
        "outputId": "cdabe075-63c6-4eee-a358-9ff6a673a357"
      },
      "source": [
        "number01 = [1,2,3]\n",
        "number02 = [4,5,6]\n",
        "type(number01), type(number02)"
      ],
      "execution_count": 8,
      "outputs": [
        {
          "output_type": "execute_result",
          "data": {
            "text/plain": [
              "(list, list)"
            ]
          },
          "metadata": {
            "tags": []
          },
          "execution_count": 8
        }
      ]
    },
    {
      "cell_type": "code",
      "metadata": {
        "colab": {
          "base_uri": "https://localhost:8080/"
        },
        "id": "_mmXuHrfqyHo",
        "outputId": "4100e784-d4b8-4544-d402-4682e3d0603a"
      },
      "source": [
        "calplus(number01[0], number02[0])"
      ],
      "execution_count": 9,
      "outputs": [
        {
          "output_type": "execute_result",
          "data": {
            "text/plain": [
              "5"
            ]
          },
          "metadata": {
            "tags": []
          },
          "execution_count": 9
        }
      ]
    },
    {
      "cell_type": "code",
      "metadata": {
        "colab": {
          "base_uri": "https://localhost:8080/"
        },
        "id": "_RL-Fkf-rtNW",
        "outputId": "7c5edb32-80b9-4fc5-97f0-7784896a8a9b"
      },
      "source": [
        "calplus(number01[1],number02[1])"
      ],
      "execution_count": 12,
      "outputs": [
        {
          "output_type": "execute_result",
          "data": {
            "text/plain": [
              "7"
            ]
          },
          "metadata": {
            "tags": []
          },
          "execution_count": 12
        }
      ]
    },
    {
      "cell_type": "code",
      "metadata": {
        "colab": {
          "base_uri": "https://localhost:8080/"
        },
        "id": "WuhaU5_jrAbr",
        "outputId": "e24f75ff-335d-4d3d-b3ed-f64074af24f8"
      },
      "source": [
        "result = map(calplus,number01,number02)\n",
        "list(result)  # [ 1+4, 2+5, 3+6 ]"
      ],
      "execution_count": 13,
      "outputs": [
        {
          "output_type": "execute_result",
          "data": {
            "text/plain": [
              "[5, 7, 9]"
            ]
          },
          "metadata": {
            "tags": []
          },
          "execution_count": 13
        }
      ]
    }
  ]
}