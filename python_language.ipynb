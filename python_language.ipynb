{
  "nbformat": 4,
  "nbformat_minor": 0,
  "metadata": {
    "colab": {
      "name": "python_language.ipynb",
      "provenance": [],
      "collapsed_sections": [],
      "authorship_tag": "ABX9TyNR6y3BEUhHqphVEdgcwP8W",
      "include_colab_link": true
    },
    "kernelspec": {
      "name": "python3",
      "display_name": "Python 3"
    },
    "language_info": {
      "name": "python"
    }
  },
  "cells": [
    {
      "cell_type": "markdown",
      "metadata": {
        "id": "view-in-github",
        "colab_type": "text"
      },
      "source": [
        "<a href=\"https://colab.research.google.com/github/yoonputer/test_python/blob/master/python_language.ipynb\" target=\"_parent\"><img src=\"https://colab.research.google.com/assets/colab-badge.svg\" alt=\"Open In Colab\"/></a>"
      ]
    },
    {
      "cell_type": "code",
      "metadata": {
        "id": "P1nXX_qpTjvQ"
      },
      "source": [
        "import numpy as np"
      ],
      "execution_count": 1,
      "outputs": []
    },
    {
      "cell_type": "code",
      "metadata": {
        "id": "tbqL8BE62akk"
      },
      "source": [
        "def onehotcylinder(cylinders):\n",
        "  if cylinders == 3:\n",
        "    cylinder = np.array([1,0,0,0,0])\n",
        "  elif cylinders == 4:\n",
        "    cylinder = np.array([0,1,0,0,0])\n",
        "  elif cylinders == 5:\n",
        "    cylinder = np.array([0,0,1,0,0])\n",
        "  elif cylinders == 6:\n",
        "    cylinder = np.array([0,0,0,1,0])\n",
        "  elif cylinders == 8:\n",
        "    cylinder = np.array([0,0,0,0,1])\n",
        "  return cylinder"
      ],
      "execution_count": 87,
      "outputs": []
    },
    {
      "cell_type": "code",
      "metadata": {
        "id": "OO48q89RVWR1"
      },
      "source": [
        "displacement = 307.0\n",
        "horsepower = 130.0\n",
        "weight = 3504.0\n",
        "accel = 12.0\n",
        "cylinders = 8\n",
        "origin = 1\n",
        "\n",
        "## if cylinders = 8, origin = 1 --> onehot encoding\n",
        "import numpy as np\n",
        "\n",
        "x_continus = np.array([displacement, horsepower, weight, accel])\n",
        "# cylinder = np.array([0,0,0,0,1]) # 8\n",
        "cylinder = onehotcylinder(cylinders)\n",
        "org = np.array([1,0,0]) # 1"
      ],
      "execution_count": 88,
      "outputs": []
    },
    {
      "cell_type": "code",
      "metadata": {
        "colab": {
          "base_uri": "https://localhost:8080/"
        },
        "id": "eefTG-SkXTdh",
        "outputId": "70659f5c-56d6-4883-da89-8669f627ad7e"
      },
      "source": [
        "#np.concatenate((a, b), axis=None)\n",
        "result = np.concatenate((x_continus, cylinder, org), axis=None)\n",
        "result.shape, result"
      ],
      "execution_count": 89,
      "outputs": [
        {
          "output_type": "execute_result",
          "data": {
            "text/plain": [
              "((12,),\n",
              " array([3.070e+02, 1.300e+02, 3.504e+03, 1.200e+01, 0.000e+00, 0.000e+00,\n",
              "        0.000e+00, 0.000e+00, 1.000e+00, 1.000e+00, 0.000e+00, 0.000e+00]))"
            ]
          },
          "metadata": {
            "tags": []
          },
          "execution_count": 89
        }
      ]
    },
    {
      "cell_type": "code",
      "metadata": {
        "colab": {
          "base_uri": "https://localhost:8080/"
        },
        "id": "jjMbw3qlZHVF",
        "outputId": "6d414f66-a042-4afd-9338-4ff666d14fc7"
      },
      "source": [
        "#[307.0,130.0,3504.0,12.0, 0,0,0,0,1]\n",
        "# result.reshape(1,12)      # 하드 코딩 (바꾸기 어려움) ex) 1+3 = 4\n",
        "result = result.reshape(-1, result.size)  # 소프트 코딩 ex) x=1, y=3  x+y \n",
        "result, result.shape, result.size,"
      ],
      "execution_count": 90,
      "outputs": [
        {
          "output_type": "execute_result",
          "data": {
            "text/plain": [
              "(array([[3.070e+02, 1.300e+02, 3.504e+03, 1.200e+01, 0.000e+00, 0.000e+00,\n",
              "         0.000e+00, 0.000e+00, 1.000e+00, 1.000e+00, 0.000e+00, 0.000e+00]]),\n",
              " (1, 12),\n",
              " 12)"
            ]
          },
          "metadata": {
            "tags": []
          },
          "execution_count": 90
        }
      ]
    },
    {
      "cell_type": "markdown",
      "metadata": {
        "id": "nFFEviW54GrD"
      },
      "source": [
        "------"
      ]
    },
    {
      "cell_type": "code",
      "metadata": {
        "colab": {
          "base_uri": "https://localhost:8080/"
        },
        "id": "bzQ_oLs_3Jxm",
        "outputId": "071e7fda-8179-46eb-ee85-d15922454947"
      },
      "source": [
        "onehotcylinder(4), onehotcylinder(6)"
      ],
      "execution_count": 86,
      "outputs": [
        {
          "output_type": "execute_result",
          "data": {
            "text/plain": [
              "(array([0, 1, 0, 0, 0]), array([0, 0, 0, 1, 0]))"
            ]
          },
          "metadata": {
            "tags": []
          },
          "execution_count": 86
        }
      ]
    },
    {
      "cell_type": "code",
      "metadata": {
        "colab": {
          "base_uri": "https://localhost:8080/"
        },
        "id": "3g9CEOSJhNsy",
        "outputId": "5181debf-efbe-4136-de25-5133f06a559e"
      },
      "source": [
        "cylinder"
      ],
      "execution_count": 19,
      "outputs": [
        {
          "output_type": "execute_result",
          "data": {
            "text/plain": [
              "array([0, 0, 0, 0, 1])"
            ]
          },
          "metadata": {
            "tags": []
          },
          "execution_count": 19
        }
      ]
    },
    {
      "cell_type": "code",
      "metadata": {
        "colab": {
          "base_uri": "https://localhost:8080/"
        },
        "id": "zG9Jn7RKXRKC",
        "outputId": "ea2efd5a-d024-436e-d962-22141a48f161"
      },
      "source": [
        "type(x_continus), type(cylinder), type(org)"
      ],
      "execution_count": 7,
      "outputs": [
        {
          "output_type": "execute_result",
          "data": {
            "text/plain": [
              "(numpy.ndarray, numpy.ndarray, numpy.ndarray)"
            ]
          },
          "metadata": {
            "tags": []
          },
          "execution_count": 7
        }
      ]
    },
    {
      "cell_type": "markdown",
      "metadata": {
        "id": "KtewOBhwirls"
      },
      "source": [
        "# function 이해"
      ]
    },
    {
      "cell_type": "code",
      "metadata": {
        "colab": {
          "base_uri": "https://localhost:8080/"
        },
        "id": "oXx8ThfjivZN",
        "outputId": "c47520ed-1578-49eb-ed15-c2342366b51c"
      },
      "source": [
        "21 + 14"
      ],
      "execution_count": 24,
      "outputs": [
        {
          "output_type": "execute_result",
          "data": {
            "text/plain": [
              "35"
            ]
          },
          "metadata": {
            "tags": []
          },
          "execution_count": 24
        }
      ]
    },
    {
      "cell_type": "code",
      "metadata": {
        "colab": {
          "base_uri": "https://localhost:8080/"
        },
        "id": "dq0F7esmi2JF",
        "outputId": "274b8c06-e1c7-426e-cd9c-d06dfc0db98c"
      },
      "source": [
        "32 + 45"
      ],
      "execution_count": 25,
      "outputs": [
        {
          "output_type": "execute_result",
          "data": {
            "text/plain": [
              "77"
            ]
          },
          "metadata": {
            "tags": []
          },
          "execution_count": 25
        }
      ]
    },
    {
      "cell_type": "code",
      "metadata": {
        "id": "amd7i-7Mi4hk"
      },
      "source": [
        "def sum():\n",
        "  first = 32\n",
        "  second = 45\n",
        "  resultt = first + second\n",
        "  return resultt"
      ],
      "execution_count": 46,
      "outputs": []
    },
    {
      "cell_type": "code",
      "metadata": {
        "colab": {
          "base_uri": "https://localhost:8080/"
        },
        "id": "DpuTv0QyjHPE",
        "outputId": "fac22862-9922-4eb7-874a-6bf96aa829b2"
      },
      "source": [
        "sum()"
      ],
      "execution_count": 47,
      "outputs": [
        {
          "output_type": "execute_result",
          "data": {
            "text/plain": [
              "77"
            ]
          },
          "metadata": {
            "tags": []
          },
          "execution_count": 47
        }
      ]
    },
    {
      "cell_type": "code",
      "metadata": {
        "id": "gUBzj-NJm-pw"
      },
      "source": [
        "def sum(f,s):\n",
        "  first = f\n",
        "  second = s\n",
        "  resultt = first + second\n",
        "  return resultt, first, second"
      ],
      "execution_count": 77,
      "outputs": []
    },
    {
      "cell_type": "code",
      "metadata": {
        "colab": {
          "base_uri": "https://localhost:8080/"
        },
        "id": "mnhaUpjlpAsB",
        "outputId": "e88b0603-95db-4ab0-be21-8885ec357655"
      },
      "source": [
        "r01, r02, r03 = sum(21,564)\n",
        "print(r01,r02)"
      ],
      "execution_count": 78,
      "outputs": [
        {
          "output_type": "stream",
          "text": [
            "585 21\n"
          ],
          "name": "stdout"
        }
      ]
    },
    {
      "cell_type": "code",
      "metadata": {
        "id": "nHatOLjvt703"
      },
      "source": [
        "#def differenceVars(*var01, **args02)\n",
        "def diffparam(*var_list, **var_dict):\n",
        "  print(var_dict)\n",
        "  result01 = len(var_list)\n",
        "  return result01"
      ],
      "execution_count": 80,
      "outputs": []
    },
    {
      "cell_type": "code",
      "metadata": {
        "colab": {
          "base_uri": "https://localhost:8080/"
        },
        "id": "A1wD2nLCzMSP",
        "outputId": "30ea8d34-8dbf-47ee-fa7f-ef5fdf89d55d"
      },
      "source": [
        "diffparam(1,2,3, a=2,b=3)"
      ],
      "execution_count": 81,
      "outputs": [
        {
          "output_type": "stream",
          "text": [
            "{'a': 2, 'b': 3}\n"
          ],
          "name": "stdout"
        },
        {
          "output_type": "execute_result",
          "data": {
            "text/plain": [
              "3"
            ]
          },
          "metadata": {
            "tags": []
          },
          "execution_count": 81
        }
      ]
    },
    {
      "cell_type": "code",
      "metadata": {
        "colab": {
          "base_uri": "https://localhost:8080/"
        },
        "id": "PPOrn6RDz3wK",
        "outputId": "e4f13429-68ca-483e-88dd-c27815dc396e"
      },
      "source": [
        "diffparam(1,2,3,5,6, c=5, d=6, a=2,b=3)"
      ],
      "execution_count": 82,
      "outputs": [
        {
          "output_type": "stream",
          "text": [
            "{'c': 5, 'd': 6, 'a': 2, 'b': 3}\n"
          ],
          "name": "stdout"
        },
        {
          "output_type": "execute_result",
          "data": {
            "text/plain": [
              "5"
            ]
          },
          "metadata": {
            "tags": []
          },
          "execution_count": 82
        }
      ]
    },
    {
      "cell_type": "code",
      "metadata": {
        "id": "CfkVSzdetPuR"
      },
      "source": [
        "def gob(a,b,c):\n",
        "  first = a\n",
        "  second = b\n",
        "  third = c\n",
        "  result = first * second * third\n",
        "  return result"
      ],
      "execution_count": 63,
      "outputs": []
    },
    {
      "cell_type": "code",
      "metadata": {
        "colab": {
          "base_uri": "https://localhost:8080/"
        },
        "id": "x8OJoq5etyyf",
        "outputId": "b29de9d9-b0ee-442d-9973-65941d75ece4"
      },
      "source": [
        "gob(21,32,2), gob(31,63,41)"
      ],
      "execution_count": 66,
      "outputs": [
        {
          "output_type": "execute_result",
          "data": {
            "text/plain": [
              "(1344, 80073)"
            ]
          },
          "metadata": {
            "tags": []
          },
          "execution_count": 66
        }
      ]
    }
  ]
}